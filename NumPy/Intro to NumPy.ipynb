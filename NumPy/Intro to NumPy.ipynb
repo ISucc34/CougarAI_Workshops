{
  "metadata": {
    "kernelspec": {
      "name": "python",
      "display_name": "Python (Pyodide)",
      "language": "python"
    },
    "language_info": {
      "codemirror_mode": {
        "name": "python",
        "version": 3
      },
      "file_extension": ".py",
      "mimetype": "text/x-python",
      "name": "python",
      "nbconvert_exporter": "python",
      "pygments_lexer": "ipython3",
      "version": "3.8"
    }
  },
  "nbformat_minor": 5,
  "nbformat": 4,
  "cells": [
    {
      "id": "f412eef4-4880-4caa-b3cb-2ed8037ac908",
      "cell_type": "code",
      "source": "import numpy as np",
      "metadata": {
        "trusted": true
      },
      "outputs": [],
      "execution_count": 2
    },
    {
      "id": "1ba2d09b-5ce9-479c-966a-77f6f892c077",
      "cell_type": "markdown",
      "source": "# Creating a 1D/2D list with numpy",
      "metadata": {}
    },
    {
      "id": "271e7744-92fd-4e23-89b5-339d6006268a",
      "cell_type": "markdown",
      "source": "## Zeros, Ones, and Eye",
      "metadata": {
        "jp-MarkdownHeadingCollapsed": true
      }
    },
    {
      "id": "b266f892-103a-49ff-aade-d1616bb87b81",
      "cell_type": "code",
      "source": "A = np.zeros((10,3)) #Generates a list of 0's of (size) (Generated as a 1d list)\n\nB = np.ones(10) #Generates a list of (size) full of 1's (Generated as a 1d list)\n\n#Both can take (row,column) as a parameter\n\nC = np.ones((2,2)) #Generates 2D array\n\nprint('C: ',C)\nprint(\"A: \",A)\nprint(\"B: \",B)\n\nnp.eye(5) #Generates a list of (size x size) with ones generating diagonal and the rest zero (2d lists)",
      "metadata": {
        "trusted": true
      },
      "outputs": [
        {
          "name": "stdout",
          "output_type": "stream",
          "text": "C:  [[1. 1.]\n [1. 1.]]\nA:  [[0. 0. 0.]\n [0. 0. 0.]\n [0. 0. 0.]\n [0. 0. 0.]\n [0. 0. 0.]\n [0. 0. 0.]\n [0. 0. 0.]\n [0. 0. 0.]\n [0. 0. 0.]\n [0. 0. 0.]]\nB:  [1. 1. 1. 1. 1. 1. 1. 1. 1. 1.]\n"
        },
        {
          "execution_count": 10,
          "output_type": "execute_result",
          "data": {
            "text/plain": "array([[1., 0., 0., 0., 0.],\n       [0., 1., 0., 0., 0.],\n       [0., 0., 1., 0., 0.],\n       [0., 0., 0., 1., 0.],\n       [0., 0., 0., 0., 1.]])"
          },
          "metadata": {}
        }
      ],
      "execution_count": 10
    },
    {
      "id": "e2b25158-1b46-4678-9ee1-14175b63ef50",
      "cell_type": "markdown",
      "source": "## Create a numpy list using a python list",
      "metadata": {
        "jp-MarkdownHeadingCollapsed": true
      }
    },
    {
      "id": "cf79b492-44b5-4fe6-b5ae-9aae907ff2f6",
      "cell_type": "code",
      "source": "python_list = [1,2,3]\nnumpyList = np.array(python_list)\n\nprint(numpyList)\nprint(type(numpyList))",
      "metadata": {
        "trusted": true
      },
      "outputs": [
        {
          "name": "stdout",
          "output_type": "stream",
          "text": "[1 2 3]\n<class 'numpy.ndarray'>\n"
        }
      ],
      "execution_count": 11
    },
    {
      "id": "aebcb391-1942-47d3-a12f-8ee9079330f4",
      "cell_type": "markdown",
      "source": "## Create a numpy list using numpy",
      "metadata": {}
    },
    {
      "id": "20f15d3a-5eda-47ca-b2c2-e6a824baf330",
      "cell_type": "code",
      "source": "list_A = np.arange(1,17,2) #arange has the parameters (start, stop, increments)\nprint(list_A)",
      "metadata": {
        "trusted": true
      },
      "outputs": [
        {
          "name": "stdout",
          "output_type": "stream",
          "text": "[ 1  3  5  7  9 11 13 15]\n"
        }
      ],
      "execution_count": 5
    },
    {
      "id": "2dddc244-1f8c-43a9-ba72-fb30009b0f22",
      "cell_type": "markdown",
      "source": "### CHALLENGE 1: CREATE A LIST \n",
      "metadata": {}
    },
    {
      "id": "fbd6bdf6-1c64-4019-bbaa-51c47f8eeea7",
      "cell_type": "code",
      "source": "# Create a list using numpy or converting from python to numpy\ndf = np.arange(0,10)\n\nprint(df)",
      "metadata": {
        "trusted": true
      },
      "outputs": [
        {
          "name": "stdout",
          "output_type": "stream",
          "text": "[0 1 2 3 4 5 6 7 8 9]\n"
        }
      ],
      "execution_count": 4
    },
    {
      "id": "5a8191ca-a282-460a-a2b5-04f633d8fb47",
      "cell_type": "markdown",
      "source": "## Making 2D lists using .reshape() and .resize()",
      "metadata": {
        "jp-MarkdownHeadingCollapsed": true
      }
    },
    {
      "id": "240436fc-aaec-48c7-bdac-1690365100ce",
      "cell_type": "code",
      "source": "list_A = list_A.reshape(4,2) #parameters are (rows,columns)(row*column must = totals values in the list)\n\nprint(list_A)\n\n#Finding the rows and columns\nnp.shape(list_A)",
      "metadata": {
        "trusted": true
      },
      "outputs": [
        {
          "name": "stdout",
          "output_type": "stream",
          "text": "[[ 1  3]\n [ 5  7]\n [ 9 11]\n [13 15]]\n"
        },
        {
          "execution_count": 6,
          "output_type": "execute_result",
          "data": {
            "text/plain": "(4, 2)"
          },
          "metadata": {}
        }
      ],
      "execution_count": 6
    },
    {
      "id": "32963425-8347-455e-834a-f73c35b7dbd4",
      "cell_type": "code",
      "source": "np.resize(list_A,(2,2)) #Like reshape, but list length to fit dimensions",
      "metadata": {
        "trusted": true
      },
      "outputs": [
        {
          "execution_count": 8,
          "output_type": "execute_result",
          "data": {
            "text/plain": "array([[1, 3],\n       [5, 7]])"
          },
          "metadata": {}
        }
      ],
      "execution_count": 8
    },
    {
      "id": "4081fc50-f43b-4ead-9348-c4ed31f8a80b",
      "cell_type": "markdown",
      "source": "## Making 3D lists",
      "metadata": {
        "jp-MarkdownHeadingCollapsed": true
      }
    },
    {
      "id": "8c6da1bd-5ba1-451f-a45a-3560ac796fa0",
      "cell_type": "code",
      "source": "list_A = list_A.reshape(2,2,2)\n\nprint(list_A)\nnp.shape(list_A)",
      "metadata": {
        "trusted": true
      },
      "outputs": [
        {
          "name": "stdout",
          "output_type": "stream",
          "text": "[[[ 1  3]\n  [ 5  7]]\n\n [[ 9 11]\n  [13 15]]]\n"
        },
        {
          "execution_count": 8,
          "output_type": "execute_result",
          "data": {
            "text/plain": "(2, 2, 2)"
          },
          "metadata": {}
        }
      ],
      "execution_count": 8
    },
    {
      "id": "c49cc318-3498-4521-aea1-fd36d71b8ded",
      "cell_type": "markdown",
      "source": "## Generating random values for a list",
      "metadata": {
        "jp-MarkdownHeadingCollapsed": true
      }
    },
    {
      "id": "0b7d9691-ba18-4613-a3ec-e77f60e27766",
      "cell_type": "code",
      "source": "#random.rand(size) will produce values of [0,1)\n#random.randn(size) will produce values of normal distribution\n#random.randint(low, high, size)\n\nlistEX = np.random.randn(10)\n\nprint(listEX)\n\nrandom = np.random\n\nlistEX = random.randint(0,100,15).reshape(5,3)\nprint(listEX)",
      "metadata": {
        "trusted": true
      },
      "outputs": [
        {
          "name": "stdout",
          "output_type": "stream",
          "text": "[ 0.39995765 -0.2080579   0.88226864  0.77098302 -1.25926327 -0.1131208\n -0.54375928 -0.33613475 -1.34164043 -0.94680055]\n[[20 25 40]\n [16 41  9]\n [ 8 85 13]\n [79 32 20]\n [25 92 60]]\n"
        }
      ],
      "execution_count": 9
    },
    {
      "id": "70f49203-90af-4863-aa6b-414adf02a085",
      "cell_type": "markdown",
      "source": "### Challenge 2: Make a 2d list ",
      "metadata": {}
    },
    {
      "id": "d9bcf93a-929c-4e37-9891-89a01ce7e44f",
      "cell_type": "code",
      "source": "c2 = np.random.randint(0,10,6)\nc2 = c2.reshape(2,3)\nprint(c2)",
      "metadata": {
        "trusted": true
      },
      "outputs": [
        {
          "name": "stdout",
          "output_type": "stream",
          "text": "[[6 1 7]\n [4 3 3]]\n"
        }
      ],
      "execution_count": 10
    },
    {
      "id": "1d0af87c-239c-4c0f-be72-886f4ca38e1d",
      "cell_type": "markdown",
      "source": "# Filtering and indexing(a value and its position)",
      "metadata": {}
    },
    {
      "id": "50a91ff8-8589-4895-bc10-5663152d6fe1",
      "cell_type": "markdown",
      "source": "## Sorting",
      "metadata": {
        "jp-MarkdownHeadingCollapsed": true
      }
    },
    {
      "id": "a5b4d757-ce67-44d1-9439-55655d7a59e8",
      "cell_type": "code",
      "source": "print(listEX)\nlistEX.sort() #sorts lists \nprint(listEX)",
      "metadata": {
        "trusted": true
      },
      "outputs": [
        {
          "name": "stdout",
          "output_type": "stream",
          "text": "[[20 25 40]\n [16 41  9]\n [ 8 85 13]\n [79 32 20]\n [25 92 60]]\n[[20 25 40]\n [ 9 16 41]\n [ 8 13 85]\n [20 32 79]\n [25 60 92]]\n"
        }
      ],
      "execution_count": 11
    },
    {
      "id": "c76d402c-1b92-48fc-a5d9-fc7e18fb1962",
      "cell_type": "markdown",
      "source": "## Finding the min/max and their positions",
      "metadata": {
        "jp-MarkdownHeadingCollapsed": true
      }
    },
    {
      "id": "237cbcf0-6800-4395-9eb5-819ab232e7f6",
      "cell_type": "code",
      "source": "print(listEX)\n\nprint(listEX.min()) #Finding the lowest value\nprint(listEX.argmin()) #Finding the lowest values position \n\nprint(listEX.max()) #Finding the highest value\nprint(listEX.argmax()) #Finds the highest values position",
      "metadata": {
        "trusted": true
      },
      "outputs": [
        {
          "name": "stdout",
          "output_type": "stream",
          "text": "[[20 25 40]\n [ 9 16 41]\n [ 8 13 85]\n [20 32 79]\n [25 60 92]]\n8\n6\n92\n14\n"
        }
      ],
      "execution_count": 12
    },
    {
      "id": "e5d826e2-8269-44ae-ab15-358612979be1",
      "cell_type": "markdown",
      "source": "## Filtering values (Using np.where())",
      "metadata": {}
    },
    {
      "id": "9fca16e3-2b82-4313-b04b-37e9fc55ba49",
      "cell_type": "code",
      "source": "#parameters are (condition, condition met, condition not met)\n\nnp.where(listEX % 2==0, 1, 2)\n\n#Change the condition not met to the list name\n\nnp.where(listEX%2 == 0, 1, listEX) \n\n#condition not met  = listEX will keep the values that dont meet the condition",
      "metadata": {
        "trusted": true
      },
      "outputs": [
        {
          "execution_count": 13,
          "output_type": "execute_result",
          "data": {
            "text/plain": "array([[ 1, 25,  1],\n       [ 9,  1, 41],\n       [ 1, 13, 85],\n       [ 1,  1, 79],\n       [25,  1,  1]])"
          },
          "metadata": {}
        }
      ],
      "execution_count": 13
    },
    {
      "id": "f0f8fc3a-616a-462f-8e1a-c1607c32f62b",
      "cell_type": "markdown",
      "source": "### Challenge 3: Using the randomized list, find the min value, change it to 0, keep the rest",
      "metadata": {
        "jp-MarkdownHeadingCollapsed": true
      }
    },
    {
      "id": "28ede82f-3034-4e17-a1be-75f7f19f4dca",
      "cell_type": "code",
      "source": "listR = np.random.randint(0,100,7)\nprint(listR)\nlistR = np.where(listR == listR.min(), 0, listR)\nprint(listR)",
      "metadata": {
        "trusted": true
      },
      "outputs": [
        {
          "name": "stdout",
          "output_type": "stream",
          "text": "[82 96 18 71 61 14 27]\n[82 96 18 71 61  0 27]\n"
        }
      ],
      "execution_count": 17
    },
    {
      "id": "48115cb3-7abc-425a-9790-bd82c6aa566e",
      "cell_type": "markdown",
      "source": "## Indexing 1D arrays",
      "metadata": {
        "jp-MarkdownHeadingCollapsed": true
      }
    },
    {
      "id": "646340cc-92ae-4190-b394-3775c3cb6d96",
      "cell_type": "code",
      "source": "listC = random.randint(0,100,5)\n\nprint(listC[0:2])\nlistC[0:2] = 20\nprint(listC)\n\n",
      "metadata": {
        "trusted": true
      },
      "outputs": [
        {
          "name": "stdout",
          "output_type": "stream",
          "text": "[15 92]\n[20 20 96 12 70]\n"
        }
      ],
      "execution_count": 14
    },
    {
      "id": "b11936db-fe27-4872-8347-5110184798e0",
      "cell_type": "markdown",
      "source": "## 2D indexing\n",
      "metadata": {
        "jp-MarkdownHeadingCollapsed": true
      }
    },
    {
      "id": "6f42dfdb-dc5c-4ee2-8281-79776c64f175",
      "cell_type": "code",
      "source": "print(listEX[0,0]) #grabs the value in the first row and column\nprint(listEX[0:3, 1:2]) #grabs the values in the first three rows and second column",
      "metadata": {
        "trusted": true
      },
      "outputs": [
        {
          "name": "stdout",
          "output_type": "stream",
          "text": "17\n[[21]\n [52]\n [25]]\n"
        }
      ],
      "execution_count": 15
    },
    {
      "id": "d1899af5-8f14-4696-9106-e1e7041a8e6f",
      "cell_type": "markdown",
      "source": "## Boolean Indexing",
      "metadata": {}
    },
    {
      "id": "165632d6-ae71-434c-a4e0-38f0bd15a1bf",
      "cell_type": "code",
      "source": "listEX % 2 == 0 #replaces values with True or False\n\nprint((listEX % 2 == 0).sum()) #adds up all values that make the statement true\n\n#indexing with booleans\n\nlistEX[listEX % 2 == 0] #Filter out false values, leaving only true values",
      "metadata": {
        "trusted": true
      },
      "outputs": [
        {
          "name": "stdout",
          "output_type": "stream",
          "text": "8\n"
        },
        {
          "execution_count": 18,
          "output_type": "execute_result",
          "data": {
            "text/plain": "array([20, 40, 16,  8, 20, 32, 60, 92])"
          },
          "metadata": {}
        }
      ],
      "execution_count": 18
    },
    {
      "id": "dbcf579d-5ae4-499f-976f-a19fbf602249",
      "cell_type": "markdown",
      "source": "### Challenge 4: ",
      "metadata": {}
    },
    {
      "id": "57b2b828-a71f-4092-a2f1-59bbe26c674c",
      "cell_type": "raw",
      "source": "Create a random 2D list of any length >= three columns.",
      "metadata": {}
    },
    {
      "id": "f02eb4ec-65e0-47df-a2e4-895e9256dce9",
      "cell_type": "raw",
      "source": "If there are more than 6 even numbers in the first two rows and columns, change all numbers in the original list to 0, if not, keep unchanged",
      "metadata": {}
    },
    {
      "id": "201b1911-9952-4243-b1b5-190b2da2e352",
      "cell_type": "code",
      "source": "",
      "metadata": {
        "trusted": true
      },
      "outputs": [
        {
          "execution_count": 17,
          "output_type": "execute_result",
          "data": {
            "text/plain": "array([[195,  10,  11,  60],\n       [108, 174, 109,  59],\n       [161, 168,  59,   6],\n       [ 16,  56,  73, 180]])"
          },
          "metadata": {}
        }
      ],
      "execution_count": 17
    },
    {
      "id": "e0f07b01-7ffb-4267-8171-8d2f9413450b",
      "cell_type": "markdown",
      "source": "# Mean, Median, Mode, and Standard Deviation",
      "metadata": {}
    },
    {
      "id": "06a80641-495f-4b03-b3c7-f1d83fd00d01",
      "cell_type": "markdown",
      "source": "## Mean",
      "metadata": {}
    },
    {
      "id": "0014c164-6da4-4e62-a0cf-689d18aff39e",
      "cell_type": "code",
      "source": "np.mean(listEX) #Finds the average of the given list\n",
      "metadata": {
        "trusted": true
      },
      "outputs": [
        {
          "execution_count": 5,
          "output_type": "execute_result",
          "data": {
            "text/plain": "np.float64(58.733333333333334)"
          },
          "metadata": {}
        }
      ],
      "execution_count": 5
    },
    {
      "id": "15c29420-0081-4aa4-bb59-e122c8979f0a",
      "cell_type": "markdown",
      "source": "## Median",
      "metadata": {}
    },
    {
      "id": "842f4119-c7e2-41a7-a064-180a4ac1246a",
      "cell_type": "code",
      "source": "#Finds the value in the middle of the list (No sorting needed)\n\nprint(np.median(listEX))\n\n\n\nprint(listEX)",
      "metadata": {
        "trusted": true
      },
      "outputs": [
        {
          "name": "stdout",
          "output_type": "stream",
          "text": "25.0\n[[20 25 40]\n [ 9 16 41]\n [ 8 13 85]\n [20 32 79]\n [25 60 92]]\n"
        }
      ],
      "execution_count": 19
    },
    {
      "id": "88816051-f9c0-4943-93eb-24ef9e82a190",
      "cell_type": "markdown",
      "source": "## Standard Deviation",
      "metadata": {}
    },
    {
      "id": "035e8e87-96d6-44af-8131-daa67778a3ab",
      "cell_type": "code",
      "source": "np.std(listEX) #How far (on average) values are from the mean",
      "metadata": {
        "trusted": true
      },
      "outputs": [],
      "execution_count": null
    },
    {
      "id": "87002fc2-f927-41bc-a5f0-91d0d0d2c7c2",
      "cell_type": "markdown",
      "source": "# Revisiting Matrices",
      "metadata": {
        "jp-MarkdownHeadingCollapsed": true
      }
    },
    {
      "id": "0761d919-2975-4522-a535-02eaa8fe1b41",
      "cell_type": "raw",
      "source": "List 1's row MUST be == List 2's column",
      "metadata": {}
    },
    {
      "id": "04f96ef1-0ed6-4b74-a94c-634f4196801e",
      "cell_type": "code",
      "source": "#np.matmul takes parameters(list 1, list 2)\n\nC = random.randint(0,100,18).reshape(9,2)\nprint(C)\n\nD = random.randint(0,100,18).reshape(2,9)\nprint(D)\n\nnp.matmul(C,D)",
      "metadata": {
        "trusted": true
      },
      "outputs": [
        {
          "name": "stdout",
          "output_type": "stream",
          "text": "[[51 78]\n [32 41]\n [98 17]\n [19 27]\n [44 49]\n [65 49]\n [97 91]\n [77  7]\n [31 43]]\n[[83 87 91 83 26 57 97 55 32]\n [18 21 57 19 24 10 83 69 35]]\n"
        },
        {
          "execution_count": 13,
          "output_type": "execute_result",
          "data": {
            "text/plain": "array([[ 5637,  6075,  9087,  5715,  3198,  3687, 11421,  8187,  4362],\n       [ 3394,  3645,  5249,  3435,  1816,  2234,  6507,  4589,  2459],\n       [ 8440,  8883,  9887,  8457,  2956,  5756, 10917,  6563,  3731],\n       [ 2063,  2220,  3268,  2090,  1142,  1353,  4084,  2908,  1553],\n       [ 4534,  4857,  6797,  4583,  2320,  2998,  8335,  5801,  3123],\n       [ 6277,  6684,  8708,  6326,  2866,  4195, 10372,  6956,  3795],\n       [ 9689, 10350, 14014,  9780,  4706,  6439, 16962, 11614,  6289],\n       [ 6517,  6846,  7406,  6524,  2170,  4459,  8050,  4718,  2709],\n       [ 3347,  3600,  5272,  3390,  1838,  2197,  6576,  4672,  2497]])"
          },
          "metadata": {}
        }
      ],
      "execution_count": 13
    },
    {
      "id": "67d6826c-dc1c-48b4-b650-cb6fe767c98a",
      "cell_type": "markdown",
      "source": "# Basic math",
      "metadata": {
        "jp-MarkdownHeadingCollapsed": true
      }
    },
    {
      "id": "cac4ff78-e162-4855-8e33-b66132e029f2",
      "cell_type": "raw",
      "source": "List 1 and List 2 shape(row, column) must be = to each other",
      "metadata": {}
    },
    {
      "id": "71647adb-fe20-4c6e-81e6-1304e4f9eda1",
      "cell_type": "code",
      "source": "C = np.arange(0,10).reshape(2,5)\nD = np.arange(10,20).reshape(2,5)\n\nprint(f'C*D = \\n{C*D}\\n')\nprint(f'C/D = \\n{C/D}\\n')\nprint(f'C-D = \\n{C-D}\\n')\nprint(f'C+D = \\n{C+D}\\n')",
      "metadata": {
        "trusted": true
      },
      "outputs": [
        {
          "name": "stdout",
          "output_type": "stream",
          "text": "C*D = \n[[  0  11  24  39  56]\n [ 75  96 119 144 171]]\n\nC/D = \n[[0.         0.09090909 0.16666667 0.23076923 0.28571429]\n [0.33333333 0.375      0.41176471 0.44444444 0.47368421]]\n\nC-D = \n[[-10 -10 -10 -10 -10]\n [-10 -10 -10 -10 -10]]\n\nC+D = \n[[10 12 14 16 18]\n [20 22 24 26 28]]\n\n"
        }
      ],
      "execution_count": 10
    },
    {
      "id": "329f33c6-c1b5-49c1-91cd-f69b2a185d57",
      "cell_type": "code",
      "source": "np.exp(C)",
      "metadata": {
        "trusted": true
      },
      "outputs": [
        {
          "execution_count": 11,
          "output_type": "execute_result",
          "data": {
            "text/plain": "array([[1.00000000e+00, 2.71828183e+00, 7.38905610e+00, 2.00855369e+01,\n        5.45981500e+01],\n       [1.48413159e+02, 4.03428793e+02, 1.09663316e+03, 2.98095799e+03,\n        8.10308393e+03]])"
          },
          "metadata": {}
        }
      ],
      "execution_count": 11
    },
    {
      "id": "43ddc446-aace-4b04-9b56-dfd3916bb397",
      "cell_type": "code",
      "source": "np.sqrt(C)",
      "metadata": {
        "trusted": true
      },
      "outputs": [
        {
          "execution_count": 23,
          "output_type": "execute_result",
          "data": {
            "text/plain": "array([[3.16227766, 1.41421356, 3.        , 2.64575131, 3.31662479],\n       [3.46410162, 1.73205081, 3.        , 3.16227766, 2.82842712]])"
          },
          "metadata": {}
        }
      ],
      "execution_count": 23
    },
    {
      "id": "e1a4f0ae-660f-4392-a2b2-f894a132c22e",
      "cell_type": "code",
      "source": "np.log(D)",
      "metadata": {
        "trusted": true
      },
      "outputs": [
        {
          "execution_count": 24,
          "output_type": "execute_result",
          "data": {
            "text/plain": "array([[1.79175947, 2.48490665, 2.19722458, 1.09861229, 1.79175947],\n       [0.        ,       -inf, 0.        , 0.69314718, 0.69314718]])"
          },
          "metadata": {}
        }
      ],
      "execution_count": 24
    },
    {
      "id": "c45553f6-6269-44b0-bd3f-28b2cc97b818",
      "cell_type": "markdown",
      "source": "# Broadcasting and Scalars",
      "metadata": {}
    },
    {
      "id": "78f7cc12-9660-4352-883c-68cb8f572f24",
      "cell_type": "markdown",
      "source": "## Broadcasting",
      "metadata": {
        "jp-MarkdownHeadingCollapsed": true
      }
    },
    {
      "id": "69e8c324-dcaa-4623-96e7-390dbbe2550a",
      "cell_type": "code",
      "source": "#Broadcasting is how do you do math when list shapes don't match\n#Requirements: Dimensions MUST be == to each other or 1\n\nOne = np.ones((4,1))\n\narr = np.arange(1,4)\n\nprint(\"ones \", One)\nprint(\"arr \", arr)\n\nOne*arr\nOne+arr",
      "metadata": {
        "trusted": true
      },
      "outputs": [
        {
          "name": "stdout",
          "output_type": "stream",
          "text": "ones  [[1.]\n [1.]\n [1.]\n [1.]]\narr  [1 2 3]\n"
        },
        {
          "execution_count": 22,
          "output_type": "execute_result",
          "data": {
            "text/plain": "array([[2., 3., 4.],\n       [2., 3., 4.],\n       [2., 3., 4.],\n       [2., 3., 4.]])"
          },
          "metadata": {}
        }
      ],
      "execution_count": 22
    },
    {
      "id": "60d44acc-a7af-4c51-a8f3-dad002c09947",
      "cell_type": "markdown",
      "source": "## Scalars/Scalar Broadcasting",
      "metadata": {}
    },
    {
      "id": "abe39142-45f8-4723-be91-db95efa55de6",
      "cell_type": "code",
      "source": "#Scalars are the values themselves, (Think of single #'s)\n#Scalar Broadcasting is just multiplying values in a list  \n\npylist = [1,2,3]\n\nScalar = 2\n\nlist_B = np.array([1,2,3])\n\nprint(Scalar * list_B)\nprint(Scalar * pylist)\n",
      "metadata": {
        "trusted": true
      },
      "outputs": [
        {
          "name": "stdout",
          "output_type": "stream",
          "text": "[2 4 6]\n[1, 2, 3, 1, 2, 3]\n"
        }
      ],
      "execution_count": 40
    },
    {
      "id": "88631e0b-adab-49bf-a160-db75ec00352f",
      "cell_type": "code",
      "source": "arr = np.array([[1,2],[2,3],[3,2]])\narr + np.ones((3,2))",
      "metadata": {
        "trusted": true
      },
      "outputs": [
        {
          "execution_count": 23,
          "output_type": "execute_result",
          "data": {
            "text/plain": "array([[2., 3.],\n       [3., 4.],\n       [4., 3.]])"
          },
          "metadata": {}
        }
      ],
      "execution_count": 23
    },
    {
      "id": "6a7cf667-a6c7-4f77-ac86-3e7b0b013d60",
      "cell_type": "code",
      "source": "",
      "metadata": {
        "trusted": true
      },
      "outputs": [],
      "execution_count": null
    }
  ]
}
