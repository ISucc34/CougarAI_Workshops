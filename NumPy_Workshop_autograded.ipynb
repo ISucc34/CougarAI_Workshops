{
 "cells": [
  {
   "cell_type": "markdown",
   "id": "d65e1b6e",
   "metadata": {},
   "source": [
    "# NumPy Workshop: Auto-Graded Assignment\n",
    "This notebook contains exercises covering key NumPy concepts. Each question includes automated tests.\n",
    "\n",
    "🔒 **Do not modify test cells.**\n",
    "\n",
    "**Instructions:** Fill in each `# Your solution here` cell and run the test cell that follows to validate."
   ]
  },
  {
   "cell_type": "code",
   "execution_count": null,
   "id": "774e46a7",
   "metadata": {},
   "outputs": [],
   "source": [
    "import numpy as np"
   ]
  },
  {
   "cell_type": "markdown",
   "id": "958e4356",
   "metadata": {},
   "source": [
    "### Problem: create_basic_array\n",
    "Create a NumPy array from [10, 20, 30]."
   ]
  },
  {
   "cell_type": "code",
   "execution_count": null,
   "id": "461bdd69",
   "metadata": {
    "nbgrader": {
     "grade": true,
     "grade_id": "create_basic_array",
     "locked": false,
     "points": 5,
     "solution": true
    }
   },
   "outputs": [],
   "source": [
    "# ID: create_basic_array\n",
    "# POINTS: 5\n",
    "arr = "
   ]
  },
  {
   "cell_type": "code",
   "execution_count": null,
   "id": "d4ce6886",
   "metadata": {
    "nbgrader": {
     "grade": true,
     "grade_id": "create_basic_array_test",
     "locked": true,
     "points": 0,
     "solution": false
    }
   },
   "outputs": [],
   "source": [
    "# ID: create_basic_array_test\n",
    "# This cell is autograded.\n",
    "assert np.array_equal(arr, np.array([10, 20, 30]))"
   ]
  },
  {
   "cell_type": "markdown",
   "id": "86cefc94",
   "metadata": {},
   "source": [
    "### Problem: create_eye_matrix\n",
    "Create a 4x4 identity matrix and multiply it by 5. Store in `eye_mat`."
   ]
  },
  {
   "cell_type": "code",
   "execution_count": null,
   "id": "5a455505",
   "metadata": {
    "nbgrader": {
     "grade": true,
     "grade_id": "create_eye_matrix",
     "locked": false,
     "points": 5,
     "solution": true
    }
   },
   "outputs": [],
   "source": [
    "# ID: create_eye_matrix\n",
    "# POINTS: 5\n",
    "eye_mat = "
   ]
  },
  {
   "cell_type": "code",
   "execution_count": null,
   "id": "95038f63",
   "metadata": {
    "nbgrader": {
     "grade": true,
     "grade_id": "create_eye_matrix_test",
     "locked": true,
     "points": 0,
     "solution": false
    }
   },
   "outputs": [],
   "source": [
    "# ID: create_eye_matrix_test\n",
    "# This cell is autograded.\n",
    "assert np.array_equal(eye_mat, np.eye(4)*5)"
   ]
  },
  {
   "cell_type": "markdown",
   "id": "4d3b1c77",
   "metadata": {},
   "source": [
    "### Problem: linspace_array\n",
    "Create an array `even_space` with 20 values evenly spaced from 5 to 15."
   ]
  },
  {
   "cell_type": "code",
   "execution_count": null,
   "id": "9ae43229",
   "metadata": {
    "nbgrader": {
     "grade": true,
     "grade_id": "linspace_array",
     "locked": false,
     "points": 5,
     "solution": true
    }
   },
   "outputs": [],
   "source": [
    "# ID: linspace_array\n",
    "# POINTS: 5\n",
    "even_space = "
   ]
  },
  {
   "cell_type": "code",
   "execution_count": null,
   "id": "7f9f648b",
   "metadata": {
    "nbgrader": {
     "grade": true,
     "grade_id": "linspace_array_test",
     "locked": true,
     "points": 0,
     "solution": false
    }
   },
   "outputs": [],
   "source": [
    "# ID: linspace_array_test\n",
    "# This cell is autograded.\n",
    "assert even_space.shape == (20,) and np.isclose(even_space[0], 5) and np.isclose(even_space[-1], 15)"
   ]
  },
  {
   "cell_type": "markdown",
   "id": "5f87eeff",
   "metadata": {},
   "source": [
    "### Problem: zero_shape\n",
    "Create a 3x3 array of zeros and store in `z`."
   ]
  },
  {
   "cell_type": "code",
   "execution_count": null,
   "id": "d4587f69",
   "metadata": {
    "nbgrader": {
     "grade": true,
     "grade_id": "zero_shape",
     "locked": false,
     "points": 5,
     "solution": true
    }
   },
   "outputs": [],
   "source": [
    "# ID: zero_shape\n",
    "# POINTS: 5\n",
    "z = "
   ]
  },
  {
   "cell_type": "code",
   "execution_count": null,
   "id": "6ae57811",
   "metadata": {
    "nbgrader": {
     "grade": true,
     "grade_id": "zero_shape_test",
     "locked": true,
     "points": 0,
     "solution": false
    }
   },
   "outputs": [],
   "source": [
    "# ID: zero_shape_test\n",
    "# This cell is autograded.\n",
    "assert z.shape == (3,3) and z.ndim == 2"
   ]
  },
  {
   "cell_type": "markdown",
   "id": "f96482af",
   "metadata": {},
   "source": [
    "### Problem: three_dim_array\n",
    "Create a (2,3,4) array of ones in `arr3d`."
   ]
  },
  {
   "cell_type": "code",
   "execution_count": null,
   "id": "a5de91ea",
   "metadata": {
    "nbgrader": {
     "grade": true,
     "grade_id": "three_dim_array",
     "locked": false,
     "points": 5,
     "solution": true
    }
   },
   "outputs": [],
   "source": [
    "# ID: three_dim_array\n",
    "# POINTS: 5\n",
    "arr3d = "
   ]
  },
  {
   "cell_type": "code",
   "execution_count": null,
   "id": "fbaf5507",
   "metadata": {
    "nbgrader": {
     "grade": true,
     "grade_id": "three_dim_array_test",
     "locked": true,
     "points": 0,
     "solution": false
    }
   },
   "outputs": [],
   "source": [
    "# ID: three_dim_array_test\n",
    "# This cell is autograded.\n",
    "assert arr3d.shape == (2,3,4) and arr3d.ndim == 3"
   ]
  },
  {
   "cell_type": "markdown",
   "id": "8d5d1520",
   "metadata": {},
   "source": [
    "### Problem: convert_dtype\n",
    "Convert float array `[1.1, 2.2, 3.3]` to integers in `int_arr`."
   ]
  },
  {
   "cell_type": "code",
   "execution_count": null,
   "id": "c41abe52",
   "metadata": {
    "nbgrader": {
     "grade": true,
     "grade_id": "convert_dtype",
     "locked": false,
     "points": 5,
     "solution": true
    }
   },
   "outputs": [],
   "source": [
    "# ID: convert_dtype\n",
    "# POINTS: 5\n",
    "int_arr = "
   ]
  },
  {
   "cell_type": "code",
   "execution_count": null,
   "id": "34a606a1",
   "metadata": {
    "nbgrader": {
     "grade": true,
     "grade_id": "convert_dtype_test",
     "locked": true,
     "points": 0,
     "solution": false
    }
   },
   "outputs": [],
   "source": [
    "# ID: convert_dtype_test\n",
    "# This cell is autograded.\n",
    "assert np.array_equal(int_arr, np.array([1,2,3])) and int_arr.dtype == int"
   ]
  },
  {
   "cell_type": "markdown",
   "id": "deaa40ae",
   "metadata": {},
   "source": [
    "### Problem: reshape_basic\n",
    "Reshape array from 1D (12,) to 2D (3,4)."
   ]
  },
  {
   "cell_type": "code",
   "execution_count": null,
   "id": "cc4649f3",
   "metadata": {
    "nbgrader": {
     "grade": true,
     "grade_id": "reshape_basic",
     "locked": false,
     "points": 5,
     "solution": true
    }
   },
   "outputs": [],
   "source": [
    "# ID: reshape_basic\n",
    "# POINTS: 5\n",
    "reshaped = np.arange(12).reshape(3,4)"
   ]
  },
  {
   "cell_type": "code",
   "execution_count": null,
   "id": "dd3367bb",
   "metadata": {
    "nbgrader": {
     "grade": true,
     "grade_id": "reshape_basic_test",
     "locked": true,
     "points": 0,
     "solution": false
    }
   },
   "outputs": [],
   "source": [
    "# ID: reshape_basic_test\n",
    "# This cell is autograded.\n",
    "assert reshaped.shape == (3,4)"
   ]
  },
  {
   "cell_type": "markdown",
   "id": "fc01a1de",
   "metadata": {},
   "source": [
    "### Problem: resize_array\n",
    "Resize (4,3) array to (2,6)."
   ]
  },
  {
   "cell_type": "code",
   "execution_count": null,
   "id": "7ddc3810",
   "metadata": {
    "nbgrader": {
     "grade": true,
     "grade_id": "resize_array",
     "locked": false,
     "points": 5,
     "solution": true
    }
   },
   "outputs": [],
   "source": [
    "# ID: resize_array\n",
    "# POINTS: 5\n",
    "resized = np.resize(np.arange(12), (2,6))"
   ]
  },
  {
   "cell_type": "code",
   "execution_count": null,
   "id": "d6285e5e",
   "metadata": {
    "nbgrader": {
     "grade": true,
     "grade_id": "resize_array_test",
     "locked": true,
     "points": 0,
     "solution": false
    }
   },
   "outputs": [],
   "source": [
    "# ID: resize_array_test\n",
    "# This cell is autograded.\n",
    "assert resized.shape == (2,6)"
   ]
  },
  {
   "cell_type": "markdown",
   "id": "88702807",
   "metadata": {},
   "source": [
    "### Problem: reshape_infer\n",
    "Use -1 to reshape 2D array with 9 elements into shape (3,3)."
   ]
  },
  {
   "cell_type": "code",
   "execution_count": null,
   "id": "a97ba25c",
   "metadata": {
    "nbgrader": {
     "grade": true,
     "grade_id": "reshape_infer",
     "locked": false,
     "points": 5,
     "solution": true
    }
   },
   "outputs": [],
   "source": [
    "# ID: reshape_infer\n",
    "# POINTS: 5\n",
    "reshaped_auto = np.arange(9).reshape(-1, 3)"
   ]
  },
  {
   "cell_type": "code",
   "execution_count": null,
   "id": "e41af47f",
   "metadata": {
    "nbgrader": {
     "grade": true,
     "grade_id": "reshape_infer_test",
     "locked": true,
     "points": 0,
     "solution": false
    }
   },
   "outputs": [],
   "source": [
    "# ID: reshape_infer_test\n",
    "# This cell is autograded.\n",
    "assert reshaped_auto.shape == (3,3)"
   ]
  },
  {
   "cell_type": "markdown",
   "id": "a7d2c05f",
   "metadata": {},
   "source": [
    "### Problem: index_1d\n",
    "Extract values from index 2 to 5 (inclusive) of array 0–9."
   ]
  },
  {
   "cell_type": "code",
   "execution_count": null,
   "id": "0791a705",
   "metadata": {
    "nbgrader": {
     "grade": true,
     "grade_id": "index_1d",
     "locked": false,
     "points": 5,
     "solution": true
    }
   },
   "outputs": [],
   "source": [
    "# ID: index_1d\n",
    "# POINTS: 5\n",
    "slice_1d = np.arange(10)[2:6]"
   ]
  },
  {
   "cell_type": "code",
   "execution_count": null,
   "id": "496d9248",
   "metadata": {
    "nbgrader": {
     "grade": true,
     "grade_id": "index_1d_test",
     "locked": true,
     "points": 0,
     "solution": false
    }
   },
   "outputs": [],
   "source": [
    "# ID: index_1d_test\n",
    "# This cell is autograded.\n",
    "assert np.array_equal(slice_1d, np.array([2,3,4,5]))"
   ]
  },
  {
   "cell_type": "markdown",
   "id": "afb9f30d",
   "metadata": {},
   "source": [
    "### Problem: boolean_filter\n",
    "Filter values > 5 from array 0–10 into `filtered`."
   ]
  },
  {
   "cell_type": "code",
   "execution_count": null,
   "id": "500c4696",
   "metadata": {
    "nbgrader": {
     "grade": true,
     "grade_id": "boolean_filter",
     "locked": false,
     "points": 5,
     "solution": true
    }
   },
   "outputs": [],
   "source": [
    "# ID: boolean_filter\n",
    "# POINTS: 5\n",
    "filtered = np.arange(11)[np.arange(11) > 5]"
   ]
  },
  {
   "cell_type": "code",
   "execution_count": null,
   "id": "e8cf517b",
   "metadata": {
    "nbgrader": {
     "grade": true,
     "grade_id": "boolean_filter_test",
     "locked": true,
     "points": 0,
     "solution": false
    }
   },
   "outputs": [],
   "source": [
    "# ID: boolean_filter_test\n",
    "# This cell is autograded.\n",
    "assert np.array_equal(filtered, np.array([6,7,8,9,10]))"
   ]
  },
  {
   "cell_type": "markdown",
   "id": "6646447c",
   "metadata": {},
   "source": [
    "### Problem: slice_2d\n",
    "From a 3x3 array, extract middle row into `middle_row`."
   ]
  },
  {
   "cell_type": "code",
   "execution_count": null,
   "id": "c3c76ed2",
   "metadata": {
    "nbgrader": {
     "grade": true,
     "grade_id": "slice_2d",
     "locked": false,
     "points": 5,
     "solution": true
    }
   },
   "outputs": [],
   "source": [
    "# ID: slice_2d\n",
    "# POINTS: 5\n",
    "a = np.arange(9).reshape(3,3)\n",
    "middle_row = a[1,:]"
   ]
  },
  {
   "cell_type": "code",
   "execution_count": null,
   "id": "96a0b14c",
   "metadata": {
    "nbgrader": {
     "grade": true,
     "grade_id": "slice_2d_test",
     "locked": true,
     "points": 0,
     "solution": false
    }
   },
   "outputs": [],
   "source": [
    "# ID: slice_2d_test\n",
    "# This cell is autograded.\n",
    "assert np.array_equal(middle_row, np.array([3,4,5]))"
   ]
  },
  {
   "cell_type": "markdown",
   "id": "e8ef043d",
   "metadata": {},
   "source": [
    "### Problem: elementwise_add\n",
    "Add arrays `[1,2,3]` and `[4,5,6]` into `sum_result`."
   ]
  },
  {
   "cell_type": "code",
   "execution_count": null,
   "id": "59136070",
   "metadata": {
    "nbgrader": {
     "grade": true,
     "grade_id": "elementwise_add",
     "locked": false,
     "points": 5,
     "solution": true
    }
   },
   "outputs": [],
   "source": [
    "# ID: elementwise_add\n",
    "# POINTS: 5\n",
    "sum_result = np.array([1,2,3]) + np.array([4,5,6])"
   ]
  },
  {
   "cell_type": "code",
   "execution_count": null,
   "id": "2bd1a4dc",
   "metadata": {
    "nbgrader": {
     "grade": true,
     "grade_id": "elementwise_add_test",
     "locked": true,
     "points": 0,
     "solution": false
    }
   },
   "outputs": [],
   "source": [
    "# ID: elementwise_add_test\n",
    "# This cell is autograded.\n",
    "assert np.array_equal(sum_result, np.array([5,7,9]))"
   ]
  },
  {
   "cell_type": "markdown",
   "id": "5a636e10",
   "metadata": {},
   "source": [
    "### Problem: dot_product\n",
    "Calculate dot product of `[1,2]` and `[3,4]`."
   ]
  },
  {
   "cell_type": "code",
   "execution_count": null,
   "id": "66a0fbf7",
   "metadata": {
    "nbgrader": {
     "grade": true,
     "grade_id": "dot_product",
     "locked": false,
     "points": 5,
     "solution": true
    }
   },
   "outputs": [],
   "source": [
    "# ID: dot_product\n",
    "# POINTS: 5\n",
    "dot_result = np.dot([1,2],[3,4])"
   ]
  },
  {
   "cell_type": "code",
   "execution_count": null,
   "id": "b8e180f1",
   "metadata": {
    "nbgrader": {
     "grade": true,
     "grade_id": "dot_product_test",
     "locked": true,
     "points": 0,
     "solution": false
    }
   },
   "outputs": [],
   "source": [
    "# ID: dot_product_test\n",
    "# This cell is autograded.\n",
    "assert dot_result == 11"
   ]
  },
  {
   "cell_type": "markdown",
   "id": "8dbbe58d",
   "metadata": {},
   "source": [
    "### Problem: matmul_2d\n",
    "Use matmul to multiply 2D arrays (2x3) and (3x2)."
   ]
  },
  {
   "cell_type": "code",
   "execution_count": null,
   "id": "e0088639",
   "metadata": {
    "nbgrader": {
     "grade": true,
     "grade_id": "matmul_2d",
     "locked": false,
     "points": 5,
     "solution": true
    }
   },
   "outputs": [],
   "source": [
    "# ID: matmul_2d\n",
    "# POINTS: 5\n",
    "A = np.ones((2,3))\n",
    "B = np.ones((3,2))\n",
    "product = np.matmul(A, B)"
   ]
  },
  {
   "cell_type": "code",
   "execution_count": null,
   "id": "ad3aa929",
   "metadata": {
    "nbgrader": {
     "grade": true,
     "grade_id": "matmul_2d_test",
     "locked": true,
     "points": 0,
     "solution": false
    }
   },
   "outputs": [],
   "source": [
    "# ID: matmul_2d_test\n",
    "# This cell is autograded.\n",
    "assert product.shape == (2,2)"
   ]
  },
  {
   "cell_type": "markdown",
   "id": "6b94e38e",
   "metadata": {},
   "source": [
    "### Problem: rand_1d\n",
    "Generate a 1D array of 5 random floats in `rand_floats`."
   ]
  },
  {
   "cell_type": "code",
   "execution_count": null,
   "id": "b96df550",
   "metadata": {
    "nbgrader": {
     "grade": true,
     "grade_id": "rand_1d",
     "locked": false,
     "points": 5,
     "solution": true
    }
   },
   "outputs": [],
   "source": [
    "# ID: rand_1d\n",
    "# POINTS: 5\n",
    "rand_floats = np.random.rand(5)"
   ]
  },
  {
   "cell_type": "code",
   "execution_count": null,
   "id": "7af37bde",
   "metadata": {
    "nbgrader": {
     "grade": true,
     "grade_id": "rand_1d_test",
     "locked": true,
     "points": 0,
     "solution": false
    }
   },
   "outputs": [],
   "source": [
    "# ID: rand_1d_test\n",
    "# This cell is autograded.\n",
    "assert rand_floats.shape == (5,)"
   ]
  },
  {
   "cell_type": "markdown",
   "id": "8b451b97",
   "metadata": {},
   "source": [
    "### Problem: randint_2d\n",
    "Generate 3x3 array of random ints from 0–9."
   ]
  },
  {
   "cell_type": "code",
   "execution_count": null,
   "id": "5771a011",
   "metadata": {
    "nbgrader": {
     "grade": true,
     "grade_id": "randint_2d",
     "locked": false,
     "points": 5,
     "solution": true
    }
   },
   "outputs": [],
   "source": [
    "# ID: randint_2d\n",
    "# POINTS: 5\n",
    "randint_arr = np.random.randint(0,10,size=(3,3))"
   ]
  },
  {
   "cell_type": "code",
   "execution_count": null,
   "id": "bca646de",
   "metadata": {
    "nbgrader": {
     "grade": true,
     "grade_id": "randint_2d_test",
     "locked": true,
     "points": 0,
     "solution": false
    }
   },
   "outputs": [],
   "source": [
    "# ID: randint_2d_test\n",
    "# This cell is autograded.\n",
    "assert randint_arr.shape == (3,3)"
   ]
  },
  {
   "cell_type": "markdown",
   "id": "258c0b4f",
   "metadata": {},
   "source": [
    "### Problem: randn_stats\n",
    "Generate 1000 values from normal distribution and compute mean."
   ]
  },
  {
   "cell_type": "code",
   "execution_count": null,
   "id": "8e26f095",
   "metadata": {
    "nbgrader": {
     "grade": true,
     "grade_id": "randn_stats",
     "locked": false,
     "points": 5,
     "solution": true
    }
   },
   "outputs": [],
   "source": [
    "# ID: randn_stats\n",
    "# POINTS: 5\n",
    "norm_vals = np.random.randn(1000)\n",
    "norm_mean = np.mean(norm_vals)"
   ]
  },
  {
   "cell_type": "code",
   "execution_count": null,
   "id": "b75ec037",
   "metadata": {
    "nbgrader": {
     "grade": true,
     "grade_id": "randn_stats_test",
     "locked": true,
     "points": 0,
     "solution": false
    }
   },
   "outputs": [],
   "source": [
    "# ID: randn_stats_test\n",
    "# This cell is autograded.\n",
    "assert abs(norm_mean) < 0.2"
   ]
  },
  {
   "cell_type": "markdown",
   "id": "76309999",
   "metadata": {},
   "source": [
    "### Problem: find_min_max\n",
    "Find min/max of `[3,1,4,2]`."
   ]
  },
  {
   "cell_type": "code",
   "execution_count": null,
   "id": "c63b0fd9",
   "metadata": {
    "nbgrader": {
     "grade": true,
     "grade_id": "find_min_max",
     "locked": false,
     "points": 5,
     "solution": true
    }
   },
   "outputs": [],
   "source": [
    "# ID: find_min_max\n",
    "# POINTS: 5\n",
    "arr = np.array([3,1,4,2])\n",
    "min_val = np.min(arr)\n",
    "max_val = np.max(arr)"
   ]
  },
  {
   "cell_type": "code",
   "execution_count": null,
   "id": "0b7a8a63",
   "metadata": {
    "nbgrader": {
     "grade": true,
     "grade_id": "find_min_max_test",
     "locked": true,
     "points": 0,
     "solution": false
    }
   },
   "outputs": [],
   "source": [
    "# ID: find_min_max_test\n",
    "# This cell is autograded.\n",
    "assert min_val == 1 and max_val == 4"
   ]
  },
  {
   "cell_type": "markdown",
   "id": "545a8237",
   "metadata": {},
   "source": [
    "### Problem: stats_ops\n",
    "Compute mean, median, std of `[1,2,3,4]`."
   ]
  },
  {
   "cell_type": "code",
   "execution_count": null,
   "id": "4de4697a",
   "metadata": {
    "nbgrader": {
     "grade": true,
     "grade_id": "stats_ops",
     "locked": false,
     "points": 5,
     "solution": true
    }
   },
   "outputs": [],
   "source": [
    "# ID: stats_ops\n",
    "# POINTS: 5\n",
    "data = np.array([1,2,3,4])\n",
    "data_mean = np.mean(data)\n",
    "data_median = np.median(data)\n",
    "data_std = np.std(data)"
   ]
  },
  {
   "cell_type": "code",
   "execution_count": null,
   "id": "0fdc8e10",
   "metadata": {
    "nbgrader": {
     "grade": true,
     "grade_id": "stats_ops_test",
     "locked": true,
     "points": 0,
     "solution": false
    }
   },
   "outputs": [],
   "source": [
    "# ID: stats_ops_test\n",
    "# This cell is autograded.\n",
    "assert data_mean == 2.5 and data_median == 2.5"
   ]
  },
  {
   "cell_type": "markdown",
   "id": "fc9cf334",
   "metadata": {},
   "source": [
    "### Problem: use_where\n",
    "Find indices in `[1,2,3,4,5]` where values > 3."
   ]
  },
  {
   "cell_type": "code",
   "execution_count": null,
   "id": "708823b6",
   "metadata": {
    "nbgrader": {
     "grade": true,
     "grade_id": "use_where",
     "locked": false,
     "points": 5,
     "solution": true
    }
   },
   "outputs": [],
   "source": [
    "# ID: use_where\n",
    "# POINTS: 5\n",
    "indices = np.where(np.array([1,2,3,4,5]) > 3)"
   ]
  },
  {
   "cell_type": "code",
   "execution_count": null,
   "id": "69820cef",
   "metadata": {
    "nbgrader": {
     "grade": true,
     "grade_id": "use_where_test",
     "locked": true,
     "points": 0,
     "solution": false
    }
   },
   "outputs": [],
   "source": [
    "# ID: use_where_test\n",
    "# This cell is autograded.\n",
    "assert np.array_equal(indices[0], np.array([3,4]))"
   ]
  },
  {
   "cell_type": "markdown",
   "id": "ad91006f",
   "metadata": {},
   "source": [
    "### Problem: scalar_broadcast\n",
    "Add scalar 10 to `[1,2,3]`."
   ]
  },
  {
   "cell_type": "code",
   "execution_count": null,
   "id": "f5cd7dbb",
   "metadata": {
    "nbgrader": {
     "grade": true,
     "grade_id": "scalar_broadcast",
     "locked": false,
     "points": 5,
     "solution": true
    }
   },
   "outputs": [],
   "source": [
    "# ID: scalar_broadcast\n",
    "# POINTS: 5\n",
    "broadcasted = np.array([1,2,3]) + 10"
   ]
  },
  {
   "cell_type": "code",
   "execution_count": null,
   "id": "c99bb436",
   "metadata": {
    "nbgrader": {
     "grade": true,
     "grade_id": "scalar_broadcast_test",
     "locked": true,
     "points": 0,
     "solution": false
    }
   },
   "outputs": [],
   "source": [
    "# ID: scalar_broadcast_test\n",
    "# This cell is autograded.\n",
    "assert np.array_equal(broadcasted, np.array([11,12,13]))"
   ]
  },
  {
   "cell_type": "markdown",
   "id": "11b91644",
   "metadata": {},
   "source": [
    "### Problem: broadcast_2d\n",
    "Multiply 1D array `[1,2,3]` with each row of a 2D array."
   ]
  },
  {
   "cell_type": "code",
   "execution_count": null,
   "id": "57caef91",
   "metadata": {
    "nbgrader": {
     "grade": true,
     "grade_id": "broadcast_2d",
     "locked": false,
     "points": 5,
     "solution": true
    }
   },
   "outputs": [],
   "source": [
    "# ID: broadcast_2d\n",
    "# POINTS: 5\n",
    "A = np.ones((3,3))\n",
    "B = np.array([1,2,3])\n",
    "result = A * B"
   ]
  },
  {
   "cell_type": "code",
   "execution_count": null,
   "id": "a9be3ab1",
   "metadata": {
    "nbgrader": {
     "grade": true,
     "grade_id": "broadcast_2d_test",
     "locked": true,
     "points": 0,
     "solution": false
    }
   },
   "outputs": [],
   "source": [
    "# ID: broadcast_2d_test\n",
    "# This cell is autograded.\n",
    "assert result.shape == (3,3) and np.array_equal(result[0], np.array([1,2,3]))"
   ]
  },
  {
   "cell_type": "markdown",
   "id": "4d5ff508",
   "metadata": {},
   "source": [
    "### Problem: complex_broadcast\n",
    "Use broadcasting to add column vector to each column of 3x3 matrix."
   ]
  },
  {
   "cell_type": "code",
   "execution_count": null,
   "id": "c311fbf3",
   "metadata": {
    "nbgrader": {
     "grade": true,
     "grade_id": "complex_broadcast",
     "locked": false,
     "points": 5,
     "solution": true
    }
   },
   "outputs": [],
   "source": [
    "# ID: complex_broadcast\n",
    "# POINTS: 5\n",
    "mat = np.ones((3,3))\n",
    "vec = np.array([[1],[2],[3]])\n",
    "res = mat + vec"
   ]
  },
  {
   "cell_type": "code",
   "execution_count": null,
   "id": "e3a76a25",
   "metadata": {
    "nbgrader": {
     "grade": true,
     "grade_id": "complex_broadcast_test",
     "locked": true,
     "points": 0,
     "solution": false
    }
   },
   "outputs": [],
   "source": [
    "# ID: complex_broadcast_test\n",
    "# This cell is autograded.\n",
    "assert res.shape == (3,3) and np.array_equal(res[:,0], np.array([2,3,4]))"
   ]
  },
  {
   "cell_type": "markdown",
   "id": "15a7620d",
   "metadata": {},
   "source": [
    "### Problem: final_project\n",
    "Mini-project: Generate random 5x5 array, scale by 2, add 5x5 identity matrix."
   ]
  },
  {
   "cell_type": "code",
   "execution_count": null,
   "id": "6930411a",
   "metadata": {
    "nbgrader": {
     "grade": true,
     "grade_id": "final_project",
     "locked": false,
     "points": 10,
     "solution": true
    }
   },
   "outputs": [],
   "source": [
    "# ID: final_project\n",
    "# POINTS: 10\n",
    "R = np.random.rand(5,5)\n",
    "result = 2*R + np.eye(5)"
   ]
  },
  {
   "cell_type": "code",
   "execution_count": null,
   "id": "57342e6f",
   "metadata": {
    "nbgrader": {
     "grade": true,
     "grade_id": "final_project_test",
     "locked": true,
     "points": 0,
     "solution": false
    }
   },
   "outputs": [],
   "source": [
    "# ID: final_project_test\n",
    "# This cell is autograded.\n",
    "assert result.shape == (5,5)"
   ]
  }
 ],
 "metadata": {},
 "nbformat": 4,
 "nbformat_minor": 5
}
